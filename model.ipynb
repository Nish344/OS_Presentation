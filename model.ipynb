import joblib
import numpy as np
import pandas as pd
import matplotlib.pyplot as plt

class ProcessScheduler:
    def __init__(self, model_path='quantum_time_predictor.joblib'):
        """
        Initialize scheduler with ML model for quantum time prediction
        """
        # Load saved model and scaler
        saved_model = joblib.load(model_path)
        self.ml_model = saved_model['model']
        self.scaler = saved_model['scaler']

        # Placeholder for processes
        self.processes = []

    def generate_processes(self, num_processes=10):
        """
        Generate synthetic processes with varied characteristics
        """
        np.random.seed(42)
        process_types = np.random.choice(['CPU_bound', 'IO_bound'], num_processes)
        burst_times = np.random.uniform(50, 300, num_processes)
        priorities = np.random.randint(0, 1, num_processes)

        self.processes = [
            {
                'pid': i,
                'process_type': process_types[i],
                'arrival_time': np.random.uniform(0, 50),
                'burst_time': burst_times[i],
                'priority': priorities[i],
                'remaining_time': burst_times[i]
            } for i in range(num_processes)
        ]

        return self.processes

    def predict_quantum_time(self, process):
        """
        Predict optimal quantum time using ML model
        """
        process_features = {
            'process_type': process['process_type'],
            'avg_burst_time': process['burst_time'],
            'context_switches': process['priority'],  # Using priority as a proxy
            'process_priority': process['priority']
        }

        # Convert input to DataFrame
        input_df = pd.DataFrame([process_features])



        # Prepare input data
        input_encoded = pd.get_dummies(input_df, columns=['process_type'])

        # Ensure all one-hot encoded columns exist
        expected_columns = ['avg_burst_time', 'context_switches', 'process_priority',
                            'process_type_CPU_bound', 'process_type_IO_bound']

        for col in expected_columns:
            if col not in input_encoded.columns:
                input_encoded[col] = 0

        # Reorder columns to match training data
        input_encoded = input_encoded[expected_columns]

        # Scale input
        input_scaled = self.scaler.transform(input_encoded)

        # Predict quantum time
        return max(10, min(self.ml_model.predict(input_scaled)[0], 100))

    def traditional_round_robin(self, fixed_quantum=20):
        """
        Traditional Round Robin scheduling simulation
        """
        current_time = 0
        completed_processes = []
        ready_queue = sorted(self.processes, key=lambda x: x['arrival_time'])

        total_waiting_time = 0
        total_turnaround_time = 0

        while ready_queue:
            current_process = ready_queue.pop(0)

            # Execute process for fixed quantum or remaining time
            execution_time = min(fixed_quantum, current_process['remaining_time'])
            current_time += execution_time
            current_process['remaining_time'] -= execution_time

            # Update waiting and turnaround times
            if current_process['remaining_time'] <= 0:
                turnaround_time = current_time - current_process['arrival_time']
                waiting_time = turnaround_time - current_process['burst_time']

                completed_processes.append({
                    'pid': current_process['pid'],
                    'waiting_time': waiting_time,
                    'turnaround_time': turnaround_time
                })

                total_waiting_time += waiting_time
                total_turnaround_time += turnaround_time
            else:
                # If process not complete, add back to queue
                ready_queue.append(current_process)

        avg_waiting_time = total_waiting_time / len(self.processes)
        avg_turnaround_time = total_turnaround_time / len(self.processes)

        return {
            'avg_waiting_time': avg_waiting_time,
            'avg_turnaround_time': avg_turnaround_time
        }

    def ml_based_round_robin(self):
        """
        ML-based Round Robin scheduling simulation
        """
        current_time = 0
        completed_processes = []
        ready_queue = sorted(self.processes, key=lambda x: x['arrival_time'])

        total_waiting_time = 0
        total_turnaround_time = 0

        while ready_queue:
            current_process = ready_queue.pop(0)

            # Predict quantum time dynamically
            dynamic_quantum = self.predict_quantum_time(current_process)

            # Execute process for predicted quantum or remaining time
            execution_time = min(dynamic_quantum, current_process['remaining_time'])
            current_time += execution_time
            current_process['remaining_time'] -= execution_time

            # Update waiting and turnaround times
            if current_process['remaining_time'] <= 0:
                turnaround_time = current_time - current_process['arrival_time']
                waiting_time = turnaround_time - current_process['burst_time']

                completed_processes.append({
                    'pid': current_process['pid'],
                    'waiting_time': waiting_time,
                    'turnaround_time': turnaround_time
                })

                total_waiting_time += waiting_time
                total_turnaround_time += turnaround_time
            else:
                # If process not complete, add back to queue
                ready_queue.append(current_process)

        avg_waiting_time = total_waiting_time / len(self.processes)
        avg_turnaround_time = total_turnaround_time / len(self.processes)

        return {
            'avg_waiting_time': avg_waiting_time,
            'avg_turnaround_time': avg_turnaround_time
        }

    def compare_scheduling_methods(self):
        """
        Compare traditional and ML-based scheduling methods
        """
        # Reset processes for fair comparison
        self.generate_processes()

        # Traditional Round Robin (with fixed 20 time quantum)
        traditional_results = self.traditional_round_robin(fixed_quantum=20)

        # Reset processes again
        self.generate_processes()

        # ML-based Round Robin
        ml_results = self.ml_based_round_robin()

        # Visualization
        methods = ['ML-based RR','Traditional RR']
        waiting_times = [traditional_results['avg_waiting_time'], ml_results['avg_waiting_time']]
        turnaround_times = [traditional_results['avg_turnaround_time'], ml_results['avg_turnaround_time']]

        fig, (ax1, ax2) = plt.subplots(1, 2, figsize=(12, 5))

        # Waiting Time Comparison
        ax1.bar(methods, waiting_times, color=['blue', 'green'])
        ax1.set_title('Average Waiting Time Comparison')
        ax1.set_ylabel('Time Units')

        # Turnaround Time Comparison
        ax2.bar(methods, turnaround_times, color=['red', 'orange'])
        ax2.set_title('Average Turnaround Time Comparison')
        ax2.set_ylabel('Time Units')

        plt.tight_layout()
        plt.show()

        # Print detailed results
        print("\nML-based Round Robin Results:")
        print(f"Average Waiting Time: {traditional_results['avg_waiting_time']:.2f}")
        print(f"Average Turnaround Time: {traditional_results['avg_turnaround_time']:.2f}")

        print("\nTraditional  Round Robin Results:")
        print(f"Average Waiting Time: {ml_results['avg_waiting_time']:.2f}")
        print(f"Average Turnaround Time: {ml_results['avg_turnaround_time']:.2f}")

def main():
    # Create scheduler instance
    scheduler = ProcessScheduler()

    # Compare scheduling methods
    scheduler.compare_scheduling_methods()

if __name__ == "__main__":
    main()
